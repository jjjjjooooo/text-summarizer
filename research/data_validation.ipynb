{
 "cells": [
  {
   "cell_type": "code",
   "execution_count": 2,
   "metadata": {},
   "outputs": [],
   "source": [
    "import os"
   ]
  },
  {
   "cell_type": "code",
   "execution_count": 3,
   "metadata": {},
   "outputs": [
    {
     "data": {
      "text/plain": [
       "'d:\\\\Dropbox\\\\Self-Development\\\\Coding_Projects\\\\TextSummarizer\\\\research'"
      ]
     },
     "execution_count": 3,
     "metadata": {},
     "output_type": "execute_result"
    }
   ],
   "source": [
    "os.getcwd()"
   ]
  },
  {
   "cell_type": "code",
   "execution_count": 4,
   "metadata": {},
   "outputs": [],
   "source": [
    "os.chdir('../')"
   ]
  },
  {
   "cell_type": "code",
   "execution_count": 5,
   "metadata": {},
   "outputs": [
    {
     "data": {
      "text/plain": [
       "'d:\\\\Dropbox\\\\Self-Development\\\\Coding_Projects\\\\TextSummarizer'"
      ]
     },
     "execution_count": 5,
     "metadata": {},
     "output_type": "execute_result"
    }
   ],
   "source": [
    "os.getcwd()"
   ]
  },
  {
   "cell_type": "code",
   "execution_count": 43,
   "metadata": {},
   "outputs": [],
   "source": [
    "from dataclasses import dataclass\n",
    "from pathlib import Path\n",
    "\n",
    "@dataclass(frozen=True)\n",
    "class DataValidationConfig:\n",
    "    root_dir: Path\n",
    "    STATUS_FILE: str\n",
    "    ALL_REQUIRED_FILES: list\n",
    "    UNZIPPED_FOLDER: str"
   ]
  },
  {
   "cell_type": "code",
   "execution_count": 44,
   "metadata": {},
   "outputs": [],
   "source": [
    "from src.constants import *\n",
    "from src.utils.exception import CustomException\n",
    "from src.utils.logger import logger\n",
    "from src.utils.utils import load_yaml, create_directories, get_size\n",
    "#from src.entity import DataValidationConfig\n",
    "\n",
    "\n",
    "class ConfigurationManager:\n",
    "    def __init__(self, config_filepath=CONFIG_FILE_PATH, params_filepath=PARAMS_FILE_PATH):\n",
    "        self.config = load_yaml(config_filepath)\n",
    "        self.params = load_yaml(params_filepath)\n",
    "\n",
    "        create_directories([self.config[\"artifacts_root\"]])\n",
    "        \n",
    "    def get_data_validation_config(self) -> DataValidationConfig:\n",
    "        config = self.config[\"data_validation\"]\n",
    "\n",
    "        create_directories([config[\"root_dir\"]])\n",
    "\n",
    "        data_validation_config = DataValidationConfig(\n",
    "            root_dir=config[\"root_dir\"],\n",
    "            STATUS_FILE=config[\"STATUS_FILE\"],\n",
    "            ALL_REQUIRED_FILES=config[\"ALL_REQUIRED_FILES\"],\n",
    "            UNZIPPED_FOLDER = config[\"UNZIPPED_FOLDER\"]\n",
    "        )\n",
    "\n",
    "        return data_validation_config"
   ]
  },
  {
   "cell_type": "code",
   "execution_count": 45,
   "metadata": {},
   "outputs": [],
   "source": [
    "import os\n",
    "import sys\n",
    "from src.utils.exception import CustomException\n",
    "from src.utils.logger import logger\n",
    "\n",
    "class DataValidation:\n",
    "    def __init__(self, config: DataValidationConfig):\n",
    "        self.config = config\n",
    "    \n",
    "    def validate_all_files_exists(self):\n",
    "        try:\n",
    "            validation_status = None\n",
    "            \n",
    "            all_files = os.listdir(os.path.join('artifacts', 'data_ingestion', self.config.UNZIPPED_FOLDER))\n",
    "            \n",
    "            for file in self.config.ALL_REQUIRED_FILES:\n",
    "                if file not in all_files:\n",
    "                    validation_status = False\n",
    "                    with open(self.config.STATUS_FILE, 'a') as f:\n",
    "                        f.write(f'Validation status: {validation_status} >>>>> {file}\\n')\n",
    "                else:\n",
    "                    validation_status = True\n",
    "                    with open(self.config.STATUS_FILE, 'a') as f:\n",
    "                        f.write(f'Validation status: {validation_status} >>>>> {file}\\n')\n",
    "            return validation_status\n",
    "        except Exception as e:\n",
    "            raise CustomException(e, sys)"
   ]
  },
  {
   "cell_type": "code",
   "execution_count": 46,
   "metadata": {},
   "outputs": [
    {
     "name": "stdout",
     "output_type": "stream",
     "text": [
      "[2023-08-06 00:48:07,150: INFO: utils: yaml file: config\\config.yaml loaded successfully]\n",
      "[2023-08-06 00:48:07,151: INFO: utils: yaml file: params.yaml loaded successfully]\n",
      "[2023-08-06 00:48:07,152: INFO: utils: created directory at: artifacts]\n",
      "[2023-08-06 00:48:07,153: INFO: utils: created directory at: artifacts/data_validation]\n"
     ]
    }
   ],
   "source": [
    "\n",
    "try:\n",
    "    config = ConfigurationManager()\n",
    "    data_validation_config = config.get_data_validation_config()\n",
    "    data_validation = DataValidation(config=data_validation_config)\n",
    "    data_validation.validate_all_files_exists()\n",
    "except Exception as e:\n",
    "    raise CustomException(e, sys)"
   ]
  },
  {
   "cell_type": "code",
   "execution_count": 32,
   "metadata": {},
   "outputs": [
    {
     "data": {
      "text/plain": [
       "['dataset_dict.json', 'test', 'train', 'validation']"
      ]
     },
     "execution_count": 32,
     "metadata": {},
     "output_type": "execute_result"
    }
   ],
   "source": [
    "os.listdir(os.path.join('artifacts', 'data_ingestion', \"samsum_dataset\"))"
   ]
  },
  {
   "cell_type": "code",
   "execution_count": null,
   "metadata": {},
   "outputs": [],
   "source": []
  },
  {
   "cell_type": "code",
   "execution_count": null,
   "metadata": {},
   "outputs": [],
   "source": []
  }
 ],
 "metadata": {
  "kernelspec": {
   "display_name": "DaSci",
   "language": "python",
   "name": "python3"
  },
  "language_info": {
   "codemirror_mode": {
    "name": "ipython",
    "version": 3
   },
   "file_extension": ".py",
   "mimetype": "text/x-python",
   "name": "python",
   "nbconvert_exporter": "python",
   "pygments_lexer": "ipython3",
   "version": "3.8.0"
  },
  "orig_nbformat": 4
 },
 "nbformat": 4,
 "nbformat_minor": 2
}
