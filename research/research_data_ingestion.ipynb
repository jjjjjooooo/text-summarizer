{
 "cells": [
  {
   "cell_type": "code",
   "execution_count": 21,
   "metadata": {},
   "outputs": [],
   "source": [
    "import os\n",
    "import sys"
   ]
  },
  {
   "cell_type": "code",
   "execution_count": 4,
   "metadata": {},
   "outputs": [],
   "source": [
    "os.chdir(\"../\")"
   ]
  },
  {
   "cell_type": "code",
   "execution_count": 6,
   "metadata": {},
   "outputs": [
    {
     "data": {
      "text/plain": [
       "'d:\\\\Dropbox\\\\Self-Development\\\\Coding_Projects\\\\TextSummarizer'"
      ]
     },
     "execution_count": 6,
     "metadata": {},
     "output_type": "execute_result"
    }
   ],
   "source": [
    "os.getcwd()"
   ]
  },
  {
   "cell_type": "code",
   "execution_count": 7,
   "metadata": {},
   "outputs": [],
   "source": [
    "from dataclasses import dataclass\n",
    "from pathlib import Path\n",
    "\n",
    "@dataclass(frozen=True)\n",
    "class DataIngestionConfig:\n",
    "    root_dir: Path\n",
    "    source_URL: str\n",
    "    local_data_file: Path\n",
    "    unzip_dir: Path"
   ]
  },
  {
   "cell_type": "code",
   "execution_count": 60,
   "metadata": {},
   "outputs": [],
   "source": [
    "import urllib.request as request\n",
    "import zipfile\n",
    "import patoolib\n",
    "from src.constants import *\n",
    "from src.utils.exception import CustomException\n",
    "from src.utils.logger import logger\n",
    "from src.utils.utils import load_yaml, create_directories, get_size"
   ]
  },
  {
   "cell_type": "code",
   "execution_count": 20,
   "metadata": {},
   "outputs": [],
   "source": [
    "class ConfigurationManager:\n",
    "    def __init__(\n",
    "        self,\n",
    "        config_filepath = CONFIG_FILE_PATH,\n",
    "        params_filepath = PARAMS_FILE_PATH):\n",
    "\n",
    "        self.config = load_yaml(config_filepath)\n",
    "        self.params = load_yaml(params_filepath)\n",
    "\n",
    "        create_directories([self.config['artifacts_root']])\n",
    "\n",
    "    \n",
    "\n",
    "    def get_data_ingestion_config(self) -> DataIngestionConfig:\n",
    "        config = self.config['data_ingestion']\n",
    "\n",
    "        create_directories([config['root_dir']])\n",
    "\n",
    "        data_ingestion_config = DataIngestionConfig(\n",
    "            root_dir=config['root_dir'],\n",
    "            source_URL=config['source_URL'],\n",
    "            local_data_file=config['local_data_file'],\n",
    "            unzip_dir=config['unzip_dir']\n",
    "        )\n",
    "\n",
    "        return data_ingestion_config"
   ]
  },
  {
   "cell_type": "code",
   "execution_count": 61,
   "metadata": {},
   "outputs": [],
   "source": [
    "class DataIngestion:\n",
    "    def __init__(self, config: DataIngestionConfig):\n",
    "        self.config = config\n",
    "\n",
    "\n",
    "    \n",
    "    def download_file(self):\n",
    "        if not os.path.exists(self.config.local_data_file):\n",
    "            filename, headers = request.urlretrieve(\n",
    "                url = self.config.source_URL,\n",
    "                filename = self.config.local_data_file\n",
    "            )\n",
    "            logger.info(f\"{filename} download! with following info: \\n{headers}\")\n",
    "        else:\n",
    "            logger.info(f\"File already exists of size: {get_size(Path(self.config.local_data_file))}\")  \n",
    "\n",
    "        \n",
    "    \n",
    "    def extract_zip_file(self):\n",
    "        \"\"\"\n",
    "        zip_file_path: str\n",
    "        Extracts the zip file into the data directory\n",
    "        Function returns None\n",
    "        \"\"\"\n",
    "        unzip_path = self.config.unzip_dir\n",
    "        os.makedirs(unzip_path, exist_ok=True)\n",
    "        with zipfile.ZipFile(self.config.local_data_file, 'r') as zip_ref:\n",
    "            zip_ref.extractall(unzip_path)"
   ]
  },
  {
   "cell_type": "code",
   "execution_count": 62,
   "metadata": {},
   "outputs": [
    {
     "name": "stdout",
     "output_type": "stream",
     "text": [
      "[2023-08-04 20:22:10,408: INFO: utils: yaml file: config\\config.yaml loaded successfully]\n",
      "[2023-08-04 20:22:10,410: INFO: utils: yaml file: params.yaml loaded successfully]\n",
      "[2023-08-04 20:22:10,412: INFO: utils: created directory at: artifacts]\n",
      "[2023-08-04 20:22:10,413: INFO: utils: created directory at: artifacts/data_ingestion]\n",
      "[2023-08-04 20:22:10,414: INFO: 965472011: File already exists of size: ~ 2875 KB]\n"
     ]
    },
    {
     "ename": "CustomException",
     "evalue": "Error occurred in script name [C:\\Users\\jinou\\AppData\\Local\\Temp\\ipykernel_95636\\4056456602.py] line number [6] error message [Error occurred in script name [C:\\Users\\jinou\\AppData\\Local\\Temp\\ipykernel_95636\\965472011.py] line number [28] error message ['>=' not supported between instances of 'str' and 'int']]",
     "output_type": "error",
     "traceback": [
      "\u001b[1;31m---------------------------------------------------------------------------\u001b[0m",
      "\u001b[1;31mTypeError\u001b[0m                                 Traceback (most recent call last)",
      "Cell \u001b[1;32mIn[61], line 28\u001b[0m, in \u001b[0;36mDataIngestion.extract_zip_file\u001b[1;34m(self)\u001b[0m\n\u001b[0;32m     27\u001b[0m \u001b[39mtry\u001b[39;00m:\n\u001b[1;32m---> 28\u001b[0m     patoolib\u001b[39m.\u001b[39;49mextract_archive(\u001b[39mself\u001b[39;49m\u001b[39m.\u001b[39;49mconfig\u001b[39m.\u001b[39;49mlocal_data_file, unzip_path)\n\u001b[0;32m     29\u001b[0m \u001b[39mexcept\u001b[39;00m \u001b[39mException\u001b[39;00m \u001b[39mas\u001b[39;00m e:\n",
      "File \u001b[1;32md:\\Dropbox\\Self-Development\\Coding_Projects\\TextSummarizer\\venv\\lib\\site-packages\\patoolib\\__init__.py:682\u001b[0m, in \u001b[0;36mextract_archive\u001b[1;34m(archive, verbosity, outdir, program, interactive)\u001b[0m\n\u001b[0;32m    681\u001b[0m util\u001b[39m.\u001b[39mcheck_existing_filename(archive)\n\u001b[1;32m--> 682\u001b[0m \u001b[39mif\u001b[39;00m verbosity \u001b[39m>\u001b[39;49m\u001b[39m=\u001b[39;49m \u001b[39m0\u001b[39;49m:\n\u001b[0;32m    683\u001b[0m     util\u001b[39m.\u001b[39mlog_info(\u001b[39m\"\u001b[39m\u001b[39mExtracting \u001b[39m\u001b[39m%s\u001b[39;00m\u001b[39m ...\u001b[39m\u001b[39m\"\u001b[39m \u001b[39m%\u001b[39m archive)\n",
      "\u001b[1;31mTypeError\u001b[0m: '>=' not supported between instances of 'str' and 'int'",
      "\nDuring handling of the above exception, another exception occurred:\n",
      "\u001b[1;31mCustomException\u001b[0m                           Traceback (most recent call last)",
      "Cell \u001b[1;32mIn[62], line 6\u001b[0m\n\u001b[0;32m      5\u001b[0m     data_ingestion\u001b[39m.\u001b[39mdownload_file()\n\u001b[1;32m----> 6\u001b[0m     data_ingestion\u001b[39m.\u001b[39;49mextract_zip_file()\n\u001b[0;32m      7\u001b[0m \u001b[39mexcept\u001b[39;00m \u001b[39mException\u001b[39;00m \u001b[39mas\u001b[39;00m e:\n",
      "Cell \u001b[1;32mIn[61], line 30\u001b[0m, in \u001b[0;36mDataIngestion.extract_zip_file\u001b[1;34m(self)\u001b[0m\n\u001b[0;32m     29\u001b[0m \u001b[39mexcept\u001b[39;00m \u001b[39mException\u001b[39;00m \u001b[39mas\u001b[39;00m e:\n\u001b[1;32m---> 30\u001b[0m     \u001b[39mraise\u001b[39;00m CustomException(e, sys)\n\u001b[0;32m     32\u001b[0m \u001b[39m\u001b[39m\u001b[39m'''\u001b[39;00m\n\u001b[0;32m     33\u001b[0m \u001b[39mwith zipfile.ZipFile(self.config.local_data_file, 'r') as zip_ref:\u001b[39;00m\n\u001b[0;32m     34\u001b[0m \u001b[39m    zip_ref.extractall(unzip_path)\u001b[39;00m\n\u001b[0;32m     35\u001b[0m \u001b[39m    '''\u001b[39;00m\n",
      "\u001b[1;31mCustomException\u001b[0m: Error occurred in script name [C:\\Users\\jinou\\AppData\\Local\\Temp\\ipykernel_95636\\965472011.py] line number [28] error message ['>=' not supported between instances of 'str' and 'int']",
      "\nDuring handling of the above exception, another exception occurred:\n",
      "\u001b[1;31mCustomException\u001b[0m                           Traceback (most recent call last)",
      "Cell \u001b[1;32mIn[62], line 8\u001b[0m\n\u001b[0;32m      6\u001b[0m     data_ingestion\u001b[39m.\u001b[39mextract_zip_file()\n\u001b[0;32m      7\u001b[0m \u001b[39mexcept\u001b[39;00m \u001b[39mException\u001b[39;00m \u001b[39mas\u001b[39;00m e:\n\u001b[1;32m----> 8\u001b[0m     \u001b[39mraise\u001b[39;00m CustomException(e, sys)\n",
      "\u001b[1;31mCustomException\u001b[0m: Error occurred in script name [C:\\Users\\jinou\\AppData\\Local\\Temp\\ipykernel_95636\\4056456602.py] line number [6] error message [Error occurred in script name [C:\\Users\\jinou\\AppData\\Local\\Temp\\ipykernel_95636\\965472011.py] line number [28] error message ['>=' not supported between instances of 'str' and 'int']]"
     ]
    }
   ],
   "source": [
    "try:\n",
    "    config = ConfigurationManager()\n",
    "    data_ingestion_config = config.get_data_ingestion_config()\n",
    "    data_ingestion = DataIngestion(config=data_ingestion_config)\n",
    "    data_ingestion.download_file()\n",
    "    data_ingestion.extract_zip_file()\n",
    "except Exception as e:\n",
    "    raise CustomException(e, sys)"
   ]
  }
 ],
 "metadata": {
  "kernelspec": {
   "display_name": "Python 3",
   "language": "python",
   "name": "python3"
  },
  "language_info": {
   "codemirror_mode": {
    "name": "ipython",
    "version": 3
   },
   "file_extension": ".py",
   "mimetype": "text/x-python",
   "name": "python",
   "nbconvert_exporter": "python",
   "pygments_lexer": "ipython3",
   "version": "3.8.0"
  },
  "orig_nbformat": 4
 },
 "nbformat": 4,
 "nbformat_minor": 2
}
